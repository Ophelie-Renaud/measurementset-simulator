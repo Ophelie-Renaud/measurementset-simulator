{
 "cells": [
  {
   "cell_type": "markdown",
   "id": "54182e8d",
   "metadata": {},
   "source": [
    "Step 1 convert fits to csv"
   ]
  },
  {
   "cell_type": "code",
   "execution_count": 5,
   "id": "1f5ff085",
   "metadata": {},
   "outputs": [
    {
     "name": "stdout",
     "output_type": "stream",
     "text": [
      "Fichier suvegarder dans : image.csv\n"
     ]
    }
   ],
   "source": [
    "import numpy\n",
    "import sys\n",
    "from astropy.io import fits\n",
    "\n",
    "def write_nparr_to_csv(data, filename, delimiter):\n",
    "    # Ajout d'une colonne vide à droite\n",
    "    empty_column = numpy.full((data.shape[0], 1), numpy.nan)  # Colonne remplie de NaN\n",
    "    data = numpy.hstack((data, empty_column))\n",
    "\n",
    "    # Écriture dans le fichier CSV/TSV\n",
    "    numpy.savetxt(filename, data, delimiter=delimiter, fmt='%s')\n",
    "\n",
    "# Lecture du fichier FITS\n",
    "gt_name = \"SGRA_full_gt.fits\"\n",
    "gt_hdu = fits.open(gt_name)[0]\n",
    "data = gt_hdu.data\n",
    "\n",
    "# Si le tableau a plus de 2 dimensions, sélectionne la première tranche\n",
    "if data.ndim > 2:\n",
    "    data = data[0, 0, :, :]\n",
    "\n",
    "# Réinversion du tableau (inversion des axes)\n",
    "result = numpy.flip(data)\n",
    "\n",
    "# Écriture dans le fichier CSV/TSV\n",
    "IMAGE = \"image.csv\"\n",
    "write_nparr_to_csv(result, IMAGE, \",\")\n",
    "print(\"Fichier suvegarder dans : \"+IMAGE)\n"
   ]
  },
  {
   "cell_type": "markdown",
   "id": "cfb164fd",
   "metadata": {},
   "source": [
    "Step2 run the dataflow executable"
   ]
  },
  {
   "cell_type": "code",
   "execution_count": null,
   "id": "2e257b90",
   "metadata": {},
   "outputs": [],
   "source": [
    "EXECUTABLE = \"./STD_DEGRID\"\n",
    "IMAGE = \"image.csv\"\n",
    "command = [EXECUTABLE, IMAGE]\n",
    "print(f\"Lancement : {' '.join(command)}\")\n",
    "result = subprocess.run(command, capture_output=True, text=True)\n",
    "print(result.stdout)\n",
    "if result.stderr:\n",
    "    print(f\"Erreur :\\n{result.stderr}\")"
   ]
  }
 ],
 "metadata": {
  "kernelspec": {
   "display_name": "Python 3 (ipykernel)",
   "language": "python",
   "name": "python3"
  },
  "language_info": {
   "codemirror_mode": {
    "name": "ipython",
    "version": 3
   },
   "file_extension": ".py",
   "mimetype": "text/x-python",
   "name": "python",
   "nbconvert_exporter": "python",
   "pygments_lexer": "ipython3",
   "version": "3.12.3"
  }
 },
 "nbformat": 4,
 "nbformat_minor": 5
}
